{
 "cells": [
  {
   "cell_type": "code",
   "execution_count": null,
   "source": [
    "# -*- coding: utf-8 -*-\n",
    "import numpy as np\n",
    "import matplotlib.pyplot as plt\n",
    "from scipy.io import wavfile\n",
    "from scipy.signal import welch, lfilter\n",
    "from scipy import fftpack\n",
    "from scipy.fft import fft"
   ],
   "outputs": [],
   "metadata": {}
  },
  {
   "cell_type": "code",
   "execution_count": null,
   "source": [
    "def plot_time_domain_channels_stereo(time, lc, rc):\n",
    "    #Plota as figuras ao longo do tempo\n",
    "    #Plota os canais esquerdo e direito\n",
    "    plt.figure(1,figsize=(20, 5))\n",
    "    plt.plot(time, lc, label=\"Canal esquerdo\")\n",
    "    plt.legend()\n",
    "    plt.xlabel(\"Tempo [s]\")\n",
    "    plt.ylabel(\"Amplitude\")\n",
    "    plt.show()\n",
    "\n",
    "    plt.figure(2,figsize=(20, 5))\n",
    "    plt.plot(time, rc, color=\"red\",label=\"Canal direito\")\n",
    "    plt.legend()\n",
    "    plt.xlabel(\"Tempo [s]\")\n",
    "    plt.ylabel(\"Amplitude\")\n",
    "    plt.show()"
   ],
   "outputs": [],
   "metadata": {}
  },
  {
   "cell_type": "code",
   "execution_count": null,
   "source": [
    "def plot_spect_welch_channels_stereo(lc, rc, fs):\n",
    "    #Sample Frequencies, Power Spectral Density\n",
    "    sf_lc, psd_lc = welch(\n",
    "        x=lc, \n",
    "        fs=fs, \n",
    "        window='flattop', \n",
    "        nperseg=512, \n",
    "        scaling='spectrum'\n",
    "    )\n",
    "    sf_rc, psd_rc = welch(\n",
    "        x=rc, \n",
    "        fs=fs, \n",
    "        window='flattop', \n",
    "        nperseg=512, \n",
    "        scaling='spectrum'\n",
    "    )\n",
    "\n",
    "    #Plota o espectro do sinal para frequencias normalizadas entre 0 1 pi \n",
    "    #(frequencias positivas)\n",
    "    plt.subplots(figsize=(15,5))\n",
    "    plt.subplot(1, 2, 1)\n",
    "    plt.semilogy(sf_lc, psd_lc, label=\"Canal esquerdo\")\n",
    "    plt.legend()\n",
    "    plt.xlabel('Frequencia [rad]')\n",
    "    plt.ylabel('Espectro')\n",
    "\n",
    "    plt.subplot(1, 2, 2)\n",
    "    plt.semilogy(sf_rc, psd_rc, color=\"red\", label=\"Canal direito\")\n",
    "    plt.legend()\n",
    "    plt.xlabel('Frequencia [rad]')\n",
    "    plt.ylabel('Espectro')\n",
    "    plt.show()"
   ],
   "outputs": [],
   "metadata": {}
  },
  {
   "cell_type": "code",
   "execution_count": null,
   "source": [
    "def plot_spect_fft_channels_stereo(lc,rc, n, t):\n",
    "    freq_lc = np.linspace(0.0, 1.0//(2.0*t), n//2) #Interpola para determinar eixo da frequencia\n",
    "    sig_fft_lc = fftpack.fft(lc)\n",
    "    plt.figure(3, figsize=(20,5))    \n",
    "    plt.title(\"Canal esquerdo\")\n",
    "    plt.plot(freq_lc, 2.0/n * np.abs(sig_fft_lc[0:n//2]), label=\"Canal esquerdo\")\n",
    "    plt.legend()\n",
    "    plt.xlabel('Frequencia [Hz]')\n",
    "    plt.ylabel('Espectro de amplitudes')\n",
    "    plt.legend()\n",
    "\n",
    "    freq_rc = np.linspace(0.0, 1.0//(2.0*t), n//2) #Interpola para determinar eixo da frequencia\n",
    "    sig_fft_rc = fftpack.fft(rc)\n",
    "    plt.figure(4, figsize=(20,5))\n",
    "    plt.title(\"Canal direito\")\n",
    "    plt.plot(freq_rc, 2.0/n * np.abs(sig_fft_rc[0:n//2]), color=\"red\", label=\"Canal direito\")\n",
    "    plt.legend()\n",
    "    plt.xlabel('Frequencia [Hz]')\n",
    "    plt.ylabel('Espectro de amplitudes')\n",
    "    plt.legend()\n",
    "    plt.show()\n",
    "    return freq_lc, sig_fft_lc, freq_rc, sig_fft_lc"
   ],
   "outputs": [],
   "metadata": {}
  },
  {
   "cell_type": "code",
   "execution_count": null,
   "source": [
    "#Carrega o arquivo\n",
    "sampling_rate, data = wavfile.read('569127__josefpres__dark-loops-201-simple-mix-2-short-loop-60-bpm.wav')\n",
    "#sampling_rate, data = wavfile.read('581010__xcreenplay__smoking-in-the-angel-section2.wav')\n",
    "\n",
    "number_of_samples = data.shape[0]\n",
    "number_of_channels = data.shape[1]\n",
    "\n",
    "#Tempo total = numero de amostras / fs\n",
    "duration = number_of_samples / sampling_rate\n",
    "\n",
    "#Carrega o arquivo em dois canais (audio estereo)\n",
    "left_channel = data[:, 0]\n",
    "right_channel  = data[:, 1]\n",
    "\n",
    "print(f\"Numero de canais = {number_of_channels}\")\n",
    "print(f\"Duracao = {duration}s\")\n",
    "print(f'Numero de amostras: {number_of_samples}')\n",
    "print(f\"Amostras por segundo: {sampling_rate}Hz\")\n"
   ],
   "outputs": [],
   "metadata": {}
  },
  {
   "cell_type": "markdown",
   "source": [
    "# Plote o sinal no domínio do tempo."
   ],
   "metadata": {}
  },
  {
   "cell_type": "code",
   "execution_count": null,
   "source": [
    "#Interpola para determinar eixo do tempo\n",
    "time = np.linspace(0., duration, number_of_samples)\n",
    "plot_time_domain_channels_stereo(\n",
    "    time=time,\n",
    "    lc=left_channel,\n",
    "    rc=right_channel\n",
    ")"
   ],
   "outputs": [],
   "metadata": {}
  },
  {
   "cell_type": "markdown",
   "source": [
    "# Plote o espectro de frequências do sinal e no domínio do tempo para as primeiras N amostras. "
   ],
   "metadata": {}
  },
  {
   "cell_type": "code",
   "execution_count": null,
   "source": [
    "N = 100000 #Numero de Amostras escolhidos\n",
    "T = time[1] - time[0] # sample spacing\n",
    "plot_time_domain_channels_stereo(\n",
    "    time=time[0:N],\n",
    "    lc=left_channel[0:N],\n",
    "    rc=right_channel[0:N]\n",
    ")\n",
    "plot_spect_welch_channels_stereo(\n",
    "    lc  = left_channel[0:N],\n",
    "    rc  = right_channel[0:N],\n",
    "    fs = (2*np.pi)\n",
    ")\n",
    "return_amost_n = plot_spect_fft_channels_stereo(\n",
    "    lc  = left_channel[0:N],\n",
    "    rc  = right_channel[0:N],\n",
    "    n=N,\n",
    "    t=T\n",
    ")"
   ],
   "outputs": [],
   "metadata": {}
  },
  {
   "cell_type": "markdown",
   "source": [
    "# Projeto de um filtro digital passa-baixas com resposta ao impulsofinita (FIR) que corta a metade do conteúdo espectral do arquivo de áudio"
   ],
   "metadata": {}
  },
  {
   "cell_type": "code",
   "execution_count": null,
   "source": [
    "freq_lc = np.linspace(0.0, 1.0//(2.0*T), number_of_samples//2) #Interpola para determinar eixo da frequencia\n",
    "sig_fft_lc = fftpack.fft(left_channel)\n",
    "\n",
    "plt.figure(1,figsize=(15, 5))\n",
    "plt.plot(freq_lc, 2.0/number_of_samples * np.abs(sig_fft_lc[:number_of_samples//2]))\n",
    "#\"centro de massa\" da função no domínio da frequência \n",
    "peso_lc = 0.0 #porcentagem do sinal acumulado\n",
    "rangeData_lc = len(sig_fft_lc)//2 #frequências positivas da FFT \n",
    "sc_lc = sum(abs(sig_fft_lc[:rangeData_lc])) #todo o sinal acumulado \n",
    "count_lc = 0 # quantidade de amostras somadas\n",
    "\n",
    "for i in abs(sig_fft_lc[:rangeData_lc]):\n",
    "  peso_lc = peso_lc + i/sc_lc\n",
    "  count_lc = count_lc + 1\n",
    "  if(peso_lc >= 0.5):\n",
    "    print(peso_lc)\n",
    "    break\n",
    "print(freq_lc[count_lc]) #frequência de corte para o primeiro canal\n",
    "\n",
    "plt.title(\"Canal Esquerdo\")\n",
    "plt.axvline(x = freq_lc[count_lc], color = 'black', ls = '--')\n",
    "plt.show()\n",
    "\n",
    "\n",
    "freq_rc = np.linspace(0.0, 1.0//(2.0*T), number_of_samples//2) #Interpola para determinar eixo da frequencia\n",
    "sig_fft_rc = fftpack.fft(right_channel)\n",
    "\n",
    "plt.figure(2,figsize=(15, 5))\n",
    "plt.plot(freq_rc, 2.0/number_of_samples * np.abs(sig_fft_rc[:number_of_samples//2]), color='red')\n",
    "\n",
    "peso_rc = 0.0 \n",
    "rangeData_rc = len(sig_fft_rc)//2 \n",
    "sc_rc = sum(abs(sig_fft_rc[:rangeData_rc])) \n",
    "count_rc = 0 \n",
    "\n",
    "for i in abs(sig_fft_rc[:rangeData_rc]):\n",
    "  peso_rc = peso_rc + i/sc_rc\n",
    "  count_rc = count_rc + 1\n",
    "  if(peso_rc >= 0.5):\n",
    "    print(peso_rc)\n",
    "    break\n",
    "print(freq_rc[count_rc])\n",
    "\n",
    "plt.title(\"Canal Direito\")\n",
    "plt.axvline(x = freq_rc[count_rc], color = 'black', ls = '--')\n",
    "plt.show()"
   ],
   "outputs": [],
   "metadata": {}
  },
  {
   "cell_type": "code",
   "execution_count": null,
   "source": [
    "aux = (2.0/number_of_samples * np.abs(sig_fft_lc[:number_of_samples//2])).cumsum()\n",
    "half = aux[-1] / 2\n",
    "value_half = aux[aux >= half][0]\n",
    "freq_half = freq_lc[aux >= value_half][0]\n",
    "print(\"Frequência de metade do conteúdo espectral: \", freq_half, \" Hz\")"
   ],
   "outputs": [],
   "metadata": {}
  },
  {
   "cell_type": "code",
   "execution_count": null,
   "source": [
    "aux = (2.0/number_of_samples * np.abs(sig_fft_rc[:number_of_samples//2])).cumsum()\n",
    "half = aux[-1] / 2\n",
    "value_half = aux[aux >= half][0]\n",
    "freq_half = freq_rc[aux >= value_half][0]\n",
    "print(\"Frequência de metade do conteúdo espectral: \", freq_half, \" Hz\")"
   ],
   "outputs": [],
   "metadata": {}
  },
  {
   "cell_type": "markdown",
   "source": [
    "## Coeficientes do filtro projeto no PyFDA"
   ],
   "metadata": {}
  },
  {
   "cell_type": "code",
   "execution_count": null,
   "source": [
    "#Carrega os coeficientes do filtro\n",
    "b = np.genfromtxt('coeffs_pyfda_lp.csv', delimiter=',')\n",
    "#Plota coeficientes do filtro FIR\n",
    "plt.figure(7, figsize=(20, 5))\n",
    "plt.title(\"Filtro FIR projetado\")\n",
    "plt.stem(b)\n",
    "plt.show()"
   ],
   "outputs": [],
   "metadata": {}
  },
  {
   "cell_type": "markdown",
   "source": [
    "## Implemente a filtragem com a operação de convolução no domínio da frequência ( Método de sobreposição e soma)"
   ],
   "metadata": {}
  },
  {
   "cell_type": "code",
   "execution_count": null,
   "source": [
    "def sum_cov(in_signal, filter):\n",
    "    signal_size = len(in_signal)\n",
    "    out_signal = [0 for i in range(signal_size)]\n",
    "    for n in range(signal_size):\n",
    "        sum = 0\n",
    "        for k in range(len(filter)):\n",
    "            sum += in_signal[n-k] * filter[k]\n",
    "        out_signal[n] = sum\n",
    "    return out_signal"
   ],
   "outputs": [],
   "metadata": {}
  },
  {
   "cell_type": "code",
   "execution_count": null,
   "source": [
    "#Filtra os dados dos canais esquerdo e direito\n",
    "filtered_lc = sum_cov(left_channel[0:N], b)\n",
    "filtered_rc = sum_cov(right_channel[0:N], b)"
   ],
   "outputs": [],
   "metadata": {}
  },
  {
   "cell_type": "code",
   "execution_count": null,
   "source": [
    "# Escrita de arquivo filtrado\n",
    "audio = np.array([filtered_lc, filtered_rc]).T\n",
    "scaled = np.int16(audio/np.max(np.abs(audio)) * 32767)\n",
    "filename = 'signal_filtered' + '.wav'\n",
    "wavfile.write(filename, sampling_rate, scaled)"
   ],
   "outputs": [],
   "metadata": {}
  },
  {
   "cell_type": "code",
   "execution_count": null,
   "source": [
    "#Dizimando o sinal pelo fator M\n",
    "M=2\n",
    "\n",
    "decimated_lc = filtered_lc[0:-1:M]\n",
    "decimated_rc = filtered_rc[0:-1:M]"
   ],
   "outputs": [],
   "metadata": {}
  },
  {
   "cell_type": "markdown",
   "source": [
    "# Plot os conteúdos espectrais (filtrados e dizimados)"
   ],
   "metadata": {}
  },
  {
   "cell_type": "code",
   "execution_count": null,
   "source": [
    "print(return_amost_n)"
   ],
   "outputs": [],
   "metadata": {}
  },
  {
   "cell_type": "code",
   "execution_count": null,
   "source": [
    "print(\"Filtrados\")\n",
    "plot_spect_welch_channels_stereo(\n",
    "    lc  = filtered_lc,\n",
    "    rc  = filtered_rc,\n",
    "    fs = (2*np.pi)\n",
    ")\n",
    "\n",
    "return_filtered = plot_spect_fft_channels_stereo(\n",
    "    lc  = filtered_lc,\n",
    "    rc  = filtered_rc,\n",
    "    n=N,\n",
    "    t=T\n",
    ")\n",
    "\n",
    "print(\"Dizimados\")\n",
    "plot_spect_welch_channels_stereo(\n",
    "    lc  = decimated_lc,\n",
    "    rc  = decimated_rc,\n",
    "    fs = (2*np.pi)/M\n",
    ")\n",
    "\n",
    "return_decimated = plot_spect_fft_channels_stereo(\n",
    "    lc  = decimated_lc,\n",
    "    rc  = decimated_rc,\n",
    "    n=N//M,\n",
    "    t=T\n",
    ")\n",
    "\n"
   ],
   "outputs": [],
   "metadata": {}
  },
  {
   "cell_type": "code",
   "execution_count": null,
   "source": [
    "print(\"Parte filtrada\")\n",
    "pf = abs(return_amost_n[1])- abs(return_filtered[1])\n",
    "xf2 = np.linspace(0.0, 1.0//(2*T), N//2)\n",
    "plt.figure(1)\n",
    "plt.plot(xf2, 2.0/N * np.abs(pf[:N//2]))"
   ],
   "outputs": [],
   "metadata": {}
  },
  {
   "cell_type": "code",
   "execution_count": null,
   "source": [
    "# Escrita de arquivo dizimado\n",
    "audio = np.array([decimated_lc, decimated_rc]).T\n",
    "scaled = np.int16(audio/np.max(np.abs(audio)) * 32767)\n",
    "filename = 'signal_decimated_' + str(M) + '.wav'\n",
    "wavfile.write(filename, sampling_rate//M, scaled)"
   ],
   "outputs": [],
   "metadata": {}
  },
  {
   "cell_type": "code",
   "execution_count": null,
   "source": [
    "filtered_time_domain_lc = fftpack.ifft(filtered_lc)\n",
    "filtered_time_domain_rc = fftpack.ifft(filtered_rc)\n",
    "\n",
    "decimated_time_domain_lc = fftpack.ifft(decimated_lc)\n",
    "decimated_time_domain_rc = fftpack.ifft(decimated_rc)"
   ],
   "outputs": [],
   "metadata": {}
  },
  {
   "cell_type": "markdown",
   "source": [
    "# Plot os conteúdos temporais (filtrados e dizimados)"
   ],
   "metadata": {}
  },
  {
   "cell_type": "code",
   "execution_count": null,
   "source": [
    "plot_time_domain_channels_stereo(time[0:N],filtered_time_domain_lc,filtered_time_domain_rc)\n",
    "plot_time_domain_channels_stereo(time[0:N-1:M], decimated_time_domain_lc, decimated_time_domain_rc)"
   ],
   "outputs": [],
   "metadata": {}
  }
 ],
 "metadata": {
  "orig_nbformat": 4,
  "language_info": {
   "name": "python",
   "version": "3.8.10",
   "mimetype": "text/x-python",
   "codemirror_mode": {
    "name": "ipython",
    "version": 3
   },
   "pygments_lexer": "ipython3",
   "nbconvert_exporter": "python",
   "file_extension": ".py"
  },
  "kernelspec": {
   "name": "python3",
   "display_name": "Python 3.8.10 64-bit ('pds-vmrzwVap-py3.8': poetry)"
  },
  "interpreter": {
   "hash": "a230d0688a7b2729b3938304b45a4214a67f6736efc0a7989e316aa087e021e7"
  }
 },
 "nbformat": 4,
 "nbformat_minor": 2
}