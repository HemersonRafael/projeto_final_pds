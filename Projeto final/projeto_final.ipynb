{
 "cells": [
  {
   "cell_type": "code",
   "execution_count": null,
   "source": [
    "# -*- coding: utf-8 -*-\n",
    "import numpy as np\n",
    "import matplotlib.pyplot as plt\n",
    "from scipy.io import wavfile\n",
    "from scipy.signal import welch, lfilter\n",
    "from scipy import fftpack"
   ],
   "outputs": [],
   "metadata": {}
  },
  {
   "cell_type": "code",
   "execution_count": null,
   "source": [
    "def plot_time_domain_channels_stereo(time, lc, rc):\n",
    "    #Plota as figuras ao longo do tempo\n",
    "    #Plota os canais esquerdo e direito\n",
    "    plt.figure(1,figsize=(20, 5))\n",
    "    plt.plot(time, lc, label=\"Canal esquerdo\")\n",
    "    plt.legend()\n",
    "    plt.xlabel(\"Tempo [s]\")\n",
    "    plt.ylabel(\"Amplitude\")\n",
    "    plt.show()\n",
    "\n",
    "    plt.figure(2,figsize=(20, 5))\n",
    "    plt.plot(time, rc, color=\"red\",label=\"Canal direito\")\n",
    "    plt.legend()\n",
    "    plt.xlabel(\"Tempo [s]\")\n",
    "    plt.ylabel(\"Amplitude\")\n",
    "    plt.show()"
   ],
   "outputs": [],
   "metadata": {}
  },
  {
   "cell_type": "code",
   "execution_count": null,
   "source": [
    "def plot_spect_welch_channels_stereo(lc, rc, fs):\n",
    "    #Sample Frequencies, Power Spectral Density\n",
    "    sf_lc, psd_lc = welch(\n",
    "        x=lc, \n",
    "        fs=fs, \n",
    "        window='flattop', \n",
    "        nperseg=512, \n",
    "        scaling='spectrum'\n",
    "    )\n",
    "    sf_rc, psd_rc = welch(\n",
    "        x=rc, \n",
    "        fs=fs, \n",
    "        window='flattop', \n",
    "        nperseg=512, \n",
    "        scaling='spectrum'\n",
    "    )\n",
    "\n",
    "    #Plota o espectro do sinal para frequencias normalizadas entre 0 1 pi \n",
    "    #(frequencias positivas)\n",
    "    plt.subplots(figsize=(15,5))\n",
    "    plt.subplot(1, 2, 1)\n",
    "    plt.semilogy(sf_lc, psd_lc, label=\"Canal esquerdo\")\n",
    "    plt.legend()\n",
    "    plt.xlabel('Frequencia [rad]')\n",
    "    plt.ylabel('Espectro')\n",
    "\n",
    "    plt.subplot(1, 2, 2)\n",
    "    plt.semilogy(sf_rc, psd_rc, color=\"red\", label=\"Canal direito\")\n",
    "    plt.legend()\n",
    "    plt.xlabel('Frequencia [rad]')\n",
    "    plt.ylabel('Espectro')\n",
    "    plt.show()"
   ],
   "outputs": [],
   "metadata": {}
  },
  {
   "cell_type": "code",
   "execution_count": null,
   "source": [
    "def plot_spect_fft_channels_stereo(lc,rc, sampling_rate, nfft):\n",
    "    freq_lc = np.linspace(0., sampling_rate, nfft) #Interpola para determinar eixo da frequencia\n",
    "    sig_fft_lc = fftpack.rfft(lc,nfft)\n",
    "    plt.subplots(figsize=(15,5))\n",
    "    plt.subplot(1, 2, 1)\n",
    "    plt.title(\"Canal esquerdo\")\n",
    "    plt.plot(freq_lc, np.abs(sig_fft_lc), label=\"fft\")\n",
    "    plt.legend()\n",
    "    plt.xlabel('Frequencia [Hz]')\n",
    "    plt.ylabel('Espectro de amplitudes')\n",
    "    #plt.plot(freq_lc, np.abs(fftpack.fftshift(sig_fft_lc)), label=\"fftshift\")\n",
    "    plt.legend()\n",
    "\n",
    "    freq_rc = np.linspace(0., sampling_rate, nfft) #Interpola para determinar eixo da frequencia\n",
    "    sig_fft_rc = fftpack.rfft(rc,nfft)\n",
    "    plt.subplot(1, 2, 2)\n",
    "    plt.title(\"Canal direito\")\n",
    "    plt.plot(freq_rc, np.abs(sig_fft_rc), color=\"red\", label=\"fft\")\n",
    "    plt.legend()\n",
    "    plt.xlabel('Frequencia [Hz]')\n",
    "    plt.ylabel('Espectro de amplitudes')\n",
    "    #plt.plot(freq_rc, np.abs(fftpack.fftshift(sig_fft_rc)), color=\"green\", label=\"fftshift\")\n",
    "    plt.legend()\n",
    "    plt.show()"
   ],
   "outputs": [],
   "metadata": {}
  },
  {
   "cell_type": "code",
   "execution_count": null,
   "source": [
    "#Carrega o arquivo\n",
    "sampling_rate, data = wavfile.read('569127__josefpres__dark-loops-201-simple-mix-2-short-loop-60-bpm.wav')\n",
    "#sampling_rate, data = wavfile.read('581010__xcreenplay__smoking-in-the-angel-section2.wav')\n",
    "\n",
    "number_of_samples = data.shape[0]\n",
    "number_of_channels = data.shape[1]\n",
    "\n",
    "#Tempo total = numero de amostras / fs\n",
    "duration = number_of_samples / sampling_rate\n",
    "\n",
    "#Carrega o arquivo em dois canais (audio estereo)\n",
    "left_channel = data[:, 0]\n",
    "right_channel  = data[:, 1]\n",
    "\n",
    "print(f\"Numero de canais = {number_of_channels}\")\n",
    "print(f\"Duracao = {duration}s\")\n",
    "print(f'Numero de amostras: {number_of_samples}')\n",
    "print(f\"Amostras por segundo: {sampling_rate}Hz\")\n"
   ],
   "outputs": [],
   "metadata": {}
  },
  {
   "cell_type": "code",
   "execution_count": null,
   "source": [
    "#Interpola para determinar eixo do tempo\n",
    "time = np.linspace(0., duration, number_of_samples)\n",
    "plot_time_domain_channels_stereo(\n",
    "    time=time,\n",
    "    lc=left_channel,\n",
    "    rc=right_channel\n",
    ")"
   ],
   "outputs": [],
   "metadata": {}
  },
  {
   "cell_type": "code",
   "execution_count": null,
   "source": [
    "plot_spect_welch_channels_stereo(\n",
    "    lc  = left_channel,\n",
    "    rc  = right_channel,\n",
    "    fs = 2*np.pi\n",
    ")\n",
    "\n",
    "plot_spect_fft_channels_stereo(\n",
    "    lc  = left_channel,\n",
    "    rc  = right_channel,\n",
    "    sampling_rate=sampling_rate,\n",
    "    nfft=4096\n",
    ")"
   ],
   "outputs": [],
   "metadata": {}
  },
  {
   "cell_type": "code",
   "execution_count": null,
   "source": [
    "freq_lc = np.linspace(0., sampling_rate, number_of_samples) #Interpola para determinar eixo da frequencia\n",
    "sig_fft_lc = fftpack.rfft(left_channel,number_of_samples)\n",
    "\n",
    "plt.figure(1,figsize=(15, 5))\n",
    "plt.plot(freq_lc, np.abs(sig_fft_lc[:number_of_samples]))\n",
    "#\"centro de massa\" da função no domínio da frequência \n",
    "peso_lc = 0.0 #porcentagem do sinal acumulado\n",
    "rangeData_lc = len(sig_fft_lc) #frequências positivas da FFT \n",
    "sc_lc = sum(abs(sig_fft_lc[:rangeData_lc])) #todo o sinal acumulado \n",
    "count_lc = 0 # quantidade de amostras somadas\n",
    "\n",
    "for i in abs(sig_fft_lc[:rangeData_lc]):\n",
    "  peso_lc = peso_lc + i/sc_lc\n",
    "  count_lc = count_lc + 1\n",
    "  if(peso_lc >= 0.5):\n",
    "    print(peso_lc)\n",
    "    break\n",
    "print(freq_lc[count_lc]) #frequência de corte para o primeiro canal\n",
    "\n",
    "plt.title(\"Canal Esquerdo\")\n",
    "plt.axvline(x = freq_lc[count_lc], color = 'black', ls = '--')\n",
    "plt.show()\n",
    "\n",
    "\n",
    "freq_rc = np.linspace(0., sampling_rate, number_of_samples) #Interpola para determinar eixo da frequencia\n",
    "sig_fft_rc = fftpack.rfft(right_channel,number_of_samples)\n",
    "\n",
    "plt.figure(2,figsize=(15, 5))\n",
    "plt.plot(freq_rc, np.abs(sig_fft_rc[:number_of_samples]), color='red')\n",
    "\n",
    "peso_rc = 0.0 \n",
    "rangeData_rc = len(sig_fft_rc) \n",
    "sc_rc = sum(abs(sig_fft_rc[:rangeData_rc])) \n",
    "count_rc = 0 \n",
    "\n",
    "for i in abs(sig_fft_rc[:rangeData_rc]):\n",
    "  peso_rc = peso_rc + i/sc_rc\n",
    "  count_rc = count_rc + 1\n",
    "  if(peso_rc >= 0.5):\n",
    "    print(peso_rc)\n",
    "    break\n",
    "print(freq_rc[count_rc])\n",
    "\n",
    "plt.title(\"Canal Direito\")\n",
    "plt.axvline(x = freq_rc[count_rc], color = 'black', ls = '--')\n",
    "plt.show()"
   ],
   "outputs": [],
   "metadata": {}
  },
  {
   "cell_type": "code",
   "execution_count": null,
   "source": [
    "aux = np.abs(sig_fft_rc).cumsum()\n",
    "meio = aux[-1] / 2\n",
    "valorMeio = aux[aux >= meio][0]\n",
    "freqMetade = freq_lc[aux >= valorMeio][0]\n",
    "print(\"Frequência de metade do conteúdo espectral: \", freqMetade, \" Hz\")"
   ],
   "outputs": [],
   "metadata": {}
  },
  {
   "cell_type": "code",
   "execution_count": null,
   "source": [
    "#Carrega os coeficientes do filtro\n",
    "b = np.genfromtxt('coeffs_pyfda_lp.csv', delimiter=',')\n",
    "#Plota coeficientes do filtro FIR\n",
    "plt.figure(7, figsize=(20, 5))\n",
    "plt.stem(b)\n",
    "plt.show()"
   ],
   "outputs": [],
   "metadata": {}
  },
  {
   "cell_type": "code",
   "execution_count": null,
   "source": [
    "#Filtra os dados dos canais esquerdo e direito\n",
    "filtered_lc = lfilter(b, 1, left_channel)\n",
    "filtered_rc = lfilter(b, 1, right_channel)"
   ],
   "outputs": [],
   "metadata": {}
  },
  {
   "cell_type": "code",
   "execution_count": null,
   "source": [
    "#Dizimando o sinal pelo fator M\n",
    "M=4\n",
    "\n",
    "decimated_lc = filtered_lc[0:-1:M]\n",
    "decimated_rc = filtered_rc[0:-1:M]"
   ],
   "outputs": [],
   "metadata": {}
  },
  {
   "cell_type": "code",
   "execution_count": null,
   "source": [
    "plot_spect_welch_channels_stereo(\n",
    "    lc  = decimated_lc,\n",
    "    rc  = decimated_rc,\n",
    "    fs = (2*np.pi)/M\n",
    ")\n",
    "\n",
    "plot_spect_fft_channels_stereo(\n",
    "    lc  = decimated_lc,\n",
    "    rc  = decimated_rc,\n",
    "    sampling_rate=sampling_rate//M,\n",
    "    nfft=4096\n",
    ")"
   ],
   "outputs": [],
   "metadata": {}
  },
  {
   "cell_type": "code",
   "execution_count": null,
   "source": [
    "# Escrita de arquivo dizimado\n",
    "audio = np.array([decimated_lc, decimated_rc]).T\n",
    "scaled = np.int16(audio/np.max(np.abs(audio)) * 32767)\n",
    "filename = 'signal_decimated_' + str(M) + '.wav'\n",
    "wavfile.write(filename, sampling_rate//M, scaled)"
   ],
   "outputs": [],
   "metadata": {}
  },
  {
   "cell_type": "code",
   "execution_count": null,
   "source": [
    "# Fator de interpolação\n",
    "L = 4\n",
    "interpolated_lc = np.zeros(L * len(filtered_lc))\n",
    "interpolated_lc[::L] = filtered_lc\n",
    "\n",
    "interpolated_rc = np.zeros(L * len(filtered_rc))\n",
    "interpolated_rc[::L] = filtered_rc"
   ],
   "outputs": [],
   "metadata": {}
  },
  {
   "cell_type": "code",
   "execution_count": null,
   "source": [
    "plot_spect_welch_channels_stereo(\n",
    "    lc  = interpolated_lc,\n",
    "    rc  = interpolated_rc,\n",
    "    fs = (2*np.pi)*L\n",
    ")\n",
    "\n",
    "plot_spect_fft_channels_stereo(\n",
    "    lc  = interpolated_lc,\n",
    "    rc  = interpolated_rc,\n",
    "    sampling_rate=sampling_rate*L,\n",
    "    nfft=4096\n",
    ")"
   ],
   "outputs": [],
   "metadata": {}
  },
  {
   "cell_type": "code",
   "execution_count": null,
   "source": [
    "# Escrita de arquivo interpolado\n",
    "audio = np.array([interpolated_lc, interpolated_rc]).T\n",
    "scaled = np.int16(audio/np.max(np.abs(audio)) * 32767)\n",
    "filename = 'signal_interpolated_' + str(L) + '.wav'\n",
    "wavfile.write(filename, sampling_rate*L, scaled)"
   ],
   "outputs": [],
   "metadata": {}
  }
 ],
 "metadata": {
  "orig_nbformat": 4,
  "language_info": {
   "name": "python",
   "version": "3.8.10",
   "mimetype": "text/x-python",
   "codemirror_mode": {
    "name": "ipython",
    "version": 3
   },
   "pygments_lexer": "ipython3",
   "nbconvert_exporter": "python",
   "file_extension": ".py"
  },
  "kernelspec": {
   "name": "python3",
   "display_name": "Python 3.8.10 64-bit ('pds-vmrzwVap-py3.8': poetry)"
  },
  "interpreter": {
   "hash": "a230d0688a7b2729b3938304b45a4214a67f6736efc0a7989e316aa087e021e7"
  }
 },
 "nbformat": 4,
 "nbformat_minor": 2
}